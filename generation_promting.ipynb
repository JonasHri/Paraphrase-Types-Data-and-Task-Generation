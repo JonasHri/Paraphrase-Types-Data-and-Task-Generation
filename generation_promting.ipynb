{
 "cells": [
  {
   "cell_type": "code",
   "execution_count": 1,
   "metadata": {},
   "outputs": [
    {
     "name": "stdout",
     "output_type": "stream",
     "text": [
      "loading tokenizer from disk at ./tokenizers/meta-llama/Llama-2-7b-chat-hf\n",
      "loading pipeline from disk at ./pipelines/meta-llama/Llama-2-7b-chat-hf\n"
     ]
    },
    {
     "data": {
      "application/vnd.jupyter.widget-view+json": {
       "model_id": "1e661c4b15fb4f4f8dc68357e4a9f511",
       "version_major": 2,
       "version_minor": 0
      },
      "text/plain": [
       "Loading checkpoint shards:   0%|          | 0/2 [00:00<?, ?it/s]"
      ]
     },
     "metadata": {},
     "output_type": "display_data"
    }
   ],
   "source": [
    "from transformers import AutoTokenizer\n",
    "import random\n",
    "import transformers\n",
    "import torch\n",
    "from get_helpers import get_tokenizer, get_pipline\n",
    "\n",
    "model = \"meta-llama/Llama-2-7b-chat-hf\"\n",
    "\n",
    "tokenizer = get_tokenizer(model) \n",
    "pipeline = get_pipline(\n",
    "    \"text-generation\",\n",
    "    model=model,\n",
    "    torch_dtype=torch.float16,\n",
    "    device_map=\"auto\",\n",
    ")"
   ]
  },
  {
   "cell_type": "code",
   "execution_count": 46,
   "metadata": {},
   "outputs": [
    {
     "name": "stdout",
     "output_type": "stream",
     "text": [
      "seed=35931\n",
      "Results: \n",
      "Give me one sentence about history and one about weather:\n",
      "\n",
      "History: The Treaty of Versailles was signed in 1919, marking the end of World War I and imposing harsh penalties on Germany.\n",
      "\n",
      "Weather: The sun is shining brightly today, casting a warm glow over the landscape.\n"
     ]
    }
   ],
   "source": [
    "seed = random.randint(0,2**16-1)\n",
    "print(f\"{seed=}\")\n",
    "transformers.set_seed(seed)\n",
    "prompt = \"\"\"\n",
    "Give me one sentence about history and one about weather:\n",
    "\"\"\"\n",
    "sequences = pipeline(\n",
    "    prompt,\n",
    "    do_sample=True,\n",
    "    top_k=3,\n",
    "    num_return_sequences=1,\n",
    "    eos_token_id=tokenizer.eos_token_id,\n",
    "    max_length=200,\n",
    ")\n",
    "\n",
    "print(\"Results:\", sequences[0][\"generated_text\"])"
   ]
  }
 ],
 "metadata": {
  "kernelspec": {
   "display_name": "nlp",
   "language": "python",
   "name": "python3"
  },
  "language_info": {
   "codemirror_mode": {
    "name": "ipython",
    "version": 3
   },
   "file_extension": ".py",
   "mimetype": "text/x-python",
   "name": "python",
   "nbconvert_exporter": "python",
   "pygments_lexer": "ipython3",
   "version": "3.11.5"
  }
 },
 "nbformat": 4,
 "nbformat_minor": 2
}
